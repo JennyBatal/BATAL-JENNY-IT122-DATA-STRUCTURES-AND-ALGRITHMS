{
 "cells": [
  {
   "cell_type": "code",
   "execution_count": 10,
   "id": "spiritual-christianity",
   "metadata": {},
   "outputs": [
    {
     "name": "stdout",
     "output_type": "stream",
     "text": [
      "Discuss your learnings on Chapter 1  time-frame 8:00 - 30:35. Minimum of 200 characters \n",
      "\n",
      "Chapter 1 learnings are the following: \n",
      "\n",
      "I learned about the basic information under Data Structures and Algorithm. As a future IT specialist, it is important to study this information for future purposes. \n",
      "\n",
      "Moreover, Data structures has characteristic where it should be followed if I want my data to be well. In programs, there are codes should be followed but if it will not be implement right, errors occur. I learned the three cases to compare data structure execution time and honestly, it is my first time knowing  those cases. Not all executions are the same, it has different cases. \n",
      "\n",
      "Way back in senior high days, I encounter research subject where we handle maximum of 60 participants. Compare to thousands and millions of participants in a research, those 60 items were just nothing, and maybe we can’t handle that. That’s one of the reason why Data Structure was introduced. To get a flash and easy process for data research that has high value of participants. \n",
      "\n"
     ]
    }
   ],
   "source": [
    "print(\"Discuss your learnings on Chapter 1  time-frame 8:00 - 30:35. Minimum of 200 characters \\n\")\n",
    "print(\"Chapter 1 learnings are the following: \\n\")\n",
    "print(\"I learned about the basic information under Data Structures and Algorithm. As a future IT specialist, it is important to study this information for future purposes. \\n\")\n",
    "print(\"Moreover, Data structures has characteristic where it should be followed if I want my data to be well. In programs, there are codes should be followed but if it will not be implement right, errors occur. I learned the three cases to compare data structure execution time and honestly, it is my first time knowing  those cases. Not all executions are the same, it has different cases. \\n\")\n",
    "print(\"Way back in senior high days, I encounter research subject where we handle maximum of 60 participants. Compare to thousands and millions of participants in a research, those 60 items were just nothing, and maybe we can’t handle that. That’s one of the reason why Data Structure was introduced. To get a flash and easy process for data research that has high value of participants. \\n\")\n"
   ]
  },
  {
   "cell_type": "code",
   "execution_count": 9,
   "id": "alternate-collector",
   "metadata": {},
   "outputs": [
    {
     "name": "stdout",
     "output_type": "stream",
     "text": [
      "Discuss your learnings on Chapter 1  time-frame 35:00 - end. Minimum of 200 characters\n",
      "Chapter 2 learnings are the following \n",
      "\n",
      "I also learned about the introduction of Algorithm. Algorithm means procedure but now all procedure is an Algorithm. There are characteristic to be followed so that the process will be  good. There are also two stages to analyzed Algorithm efficiently, the priori analysis and posterior analysis. The Algorithm has complexity to be followed to achieved successful results and those are time complexity, time and space factor. There are various and deep concept to be followed after this and I am excited to learned more about Data Structures and Algorithm. \n",
      "\n"
     ]
    }
   ],
   "source": [
    "print(\"Discuss your learnings on Chapter 1  time-frame 35:00 - end. Minimum of 200 characters \\n\")\n",
    "print(\"Chapter 2 learnings are the following \\n\")\n",
    "print(\"I also learned about the introduction of Algorithm. Algorithm means procedure but now all procedure is an Algorithm. There are characteristic to be followed so that the process will be  good. There are also two stages to analyzed Algorithm efficiently, the priori analysis and posterior analysis. The Algorithm has complexity to be followed to achieved successful results and those are time complexity, time and space factor. There are various and deep concept to be followed after this and I am excited to learned more about Data Structures and Algorithm. \\n\")"
   ]
  },
  {
   "cell_type": "code",
   "execution_count": 11,
   "id": "simple-catch",
   "metadata": {},
   "outputs": [
    {
     "name": "stdout",
     "output_type": "stream",
     "text": [
      "Discuss your learnings on Chapter 2  time-frame 5:00 - 9:00. Minimum of 200 characters \n",
      "\n",
      "Chapter 2 learnings are the following \n",
      "\n",
      "In a program, there are data types that we will encounter even if it was just a simple code. There are two types of data types, built-in and derived data types.\n",
      "\n",
      "Derived data types are implementation-independent. These data types are commonly built by the combination of primary built-in data types and associated operation on them. For examples, the derived data types are list, array, stack, queue, blocking/loop statements like if statement, for loop, while loop, do-while loop, etc. \n",
      "\n",
      "In any programs, we happen to encounter operators like assignment operators, arithmetic operators, relational and comparison operator, logical operators, identity operators, membership operators, and bitwise operators, those have mention are python program operators. In Data Structure, it also has operators that will process the data. Those are, Traversing, Searching, Insertion, Deletion, Sorting, Merging, Updating. Information mention above are just a part of introduction in Data Structures, the basic concepts and we will learned more in the next chapter.\n",
      "\n"
     ]
    }
   ],
   "source": [
    "print(\"Discuss your learnings on Chapter 2  time-frame 5:00 - 9:00. Minimum of 200 characters \\n\")\n",
    "print(\"Chapter 2 learnings are the following \\n\")\n",
    "print(\"In a program, there are data types that we will encounter even if it was just a simple code. There are two types of data types, built-in and derived data types.\\n\")\n",
    "print(\"Derived data types are implementation-independent. These data types are commonly built by the combination of primary built-in data types and associated operation on them. For examples, the derived data types are list, array, stack, queue, blocking/loop statements like if statement, for loop, while loop, do-while loop, etc. \\n\")\n",
    "print(\"In any programs, we happen to encounter operators like assignment operators, arithmetic operators, relational and comparison operator, logical operators, identity operators, membership operators, and bitwise operators, those have mention are python program operators. In Data Structure, it also has operators that will process the data. Those are, Traversing, Searching, Insertion, Deletion, Sorting, Merging, Updating. Information mention above are just a part of introduction in Data Structures, the basic concepts and we will learned more in the next chapter.\\n\")"
   ]
  },
  {
   "cell_type": "code",
   "execution_count": 1,
   "id": "constitutional-trace",
   "metadata": {},
   "outputs": [
    {
     "name": "stdout",
     "output_type": "stream",
     "text": [
      "Discuss your learnings on Chapter 3  time-frame 3:00 - 18:00. Minimum of 200 characters \n",
      "\n",
      "Chapter 3 learnings are the following \n",
      "\n",
      "In this chapter, I learned about arrays in Data Structures and Algorithms. Array is a derived data type that will hold a fix number of items that has the same type. \n",
      "\n",
      "Arrays use to implement Algorithm. Inside the word array is an element and index. Element is the item stored while the index is the location of element/s. \n",
      "\n",
      "Moreover, index must be numerical to identify the element inside the array. Index will always start in zero(0). For instance, we will have [1, 2, 3, 4, 5], index 0 will be 1, index 1 will be 2, so on and so forth. Always count start at 0 to be guided. There are operation supported by array and those are Traverse, Deletion, Insertion, Update, and Search. In a python program, you can’t use array without “format array import *” inside the program, you can put it above before doing codes that will use arrays. \n",
      "\n",
      "We also has Typecode, these are codes used to define the type of value your array will hold. We will ;earn more in Data Structures and Algorithm in the next chapter.\n"
     ]
    }
   ],
   "source": [
    "print(\"Discuss your learnings on Chapter 3  time-frame 3:00 - 18:00. Minimum of 200 characters \\n\")\n",
    "print(\"Chapter 3 learnings are the following \\n\")\n",
    "print(\"In this chapter, I learned about arrays in Data Structures and Algorithms. Array is a derived data type that will hold a fix number of items that has the same type. \\n\")\n",
    "print(\"Arrays use to implement Algorithm. Inside the word array is an element and index. Element is the item stored while the index is the location of element/s. \\n\")\n",
    "print(\"Moreover, index must be numerical to identify the element inside the array. Index will always start in zero(0). For instance, we will have [1, 2, 3, 4, 5], index 0 will be 1, index 1 will be 2, so on and so forth. Always count start at 0 to be guided. There are operation supported by array and those are Traverse, Deletion, Insertion, Update, and Search. In a python program, you can’t use array without “format array import *” inside the program, you can put it above before doing codes that will use arrays. \\n\")\n",
    "print(\"We also has Typecode, these are codes used to define the type of value your array will hold. We will ;earn more in Data Structures and Algorithm in the next chapter.\")\n"
   ]
  },
  {
   "cell_type": "code",
   "execution_count": 1,
   "id": "utility-creator",
   "metadata": {},
   "outputs": [
    {
     "name": "stdout",
     "output_type": "stream",
     "text": [
      "10.0\n",
      "20.0\n",
      "30.0\n",
      "5.0\n"
     ]
    }
   ],
   "source": [
    "from array import *\n",
    "array1 = array('d',[10, 20, 30, 40, 50])\n",
    "array1.remove(50)\n",
    "array1[3] = 5\n",
    "for s in array1:\n",
    "    print(s)"
   ]
  },
  {
   "cell_type": "code",
   "execution_count": null,
   "id": "lined-difficulty",
   "metadata": {},
   "outputs": [],
   "source": []
  }
 ],
 "metadata": {
  "kernelspec": {
   "display_name": "Python 3",
   "language": "python",
   "name": "python3"
  },
  "language_info": {
   "codemirror_mode": {
    "name": "ipython",
    "version": 3
   },
   "file_extension": ".py",
   "mimetype": "text/x-python",
   "name": "python",
   "nbconvert_exporter": "python",
   "pygments_lexer": "ipython3",
   "version": "3.9.2"
  }
 },
 "nbformat": 4,
 "nbformat_minor": 5
}
